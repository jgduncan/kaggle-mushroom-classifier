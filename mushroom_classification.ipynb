{
 "cells": [
  {
   "cell_type": "code",
   "execution_count": 2,
   "id": "built-atlantic",
   "metadata": {},
   "outputs": [],
   "source": [
    "# Importing necessary modules for data analysis, cleaning, wrangling, and visualisation\n",
    "\n",
    "import pandas as pd\n",
    "import numpy as np\n",
    "import matplotlib.pyplot as plt\n",
    "import seaborn as sns"
   ]
  },
  {
   "cell_type": "code",
   "execution_count": 3,
   "id": "finite-speaker",
   "metadata": {},
   "outputs": [],
   "source": [
    "df = pd.read_csv('mushrooms.csv')"
   ]
  },
  {
   "cell_type": "markdown",
   "id": "dedicated-green",
   "metadata": {},
   "source": [
    "## Lots of useful info about this dataset on kaggle:\n",
    "\n",
    "Attribute Information: (classes: edible=e, poisonous=p)\n",
    "- cap-shape: bell=b,conical=c,convex=x,flat=f, knobbed=k,sunken=s\n",
    "- cap-surface: fibrous=f,grooves=g,scaly=y,smooth=s\n",
    "- cap-color: brown=n,buff=b,cinnamon=c,gray=g,green=r,pink=p,purple=u,red=e,white=w,yellow=y\n",
    "- bruises: bruises=t,no=f\n",
    "- odor: almond=a,anise=l,creosote=c,fishy=y,foul=f,musty=m,none=n,pungent=p,spicy=s\n",
    "- gill-attachment: attached=a,descending=d,free=f,notched=n\n",
    "- gill-spacing: close=c,crowded=w,distant=d\n",
    "- gill-size: broad=b,narrow=n\n",
    "- gill-color: black=k,brown=n,buff=b,chocolate=h,gray=g, green=r,orange=o,pink=p,purple=u,red=e,white=w,yellow=y\n",
    "- stalk-shape: enlarging=e,tapering=t\n",
    "- stalk-root: bulbous=b,club=c,cup=u,equal=e,rhizomorphs=z,rooted=r,missing=?\n",
    "- stalk-surface-above-ring: fibrous=f,scaly=y,silky=k,smooth=s\n",
    "- stalk-surface-below-ring: fibrous=f,scaly=y,silky=k,smooth=s\n",
    "- stalk-color-above-ring: brown=n,buff=b,cinnamon=c,gray=g,orange=o,pink=p,red=e,white=w,yellow=y\n",
    "- stalk-color-below-ring: brown=n,buff=b,cinnamon=c,gray=g,orange=o,pink=p,red=e,white=w,yellow=y\n",
    "- veil-type: partial=p,universal=u\n",
    "- veil-color: brown=n,orange=o,white=w,yellow=y\n",
    "- ring-number: none=n,one=o,two=t\n",
    "- ring-type: cobwebby=c,evanescent=e,flaring=f,large=l,none=n,pendant=p,sheathing=s,zone=z\n",
    "- spore-print-color: black=k,brown=n,buff=b,chocolate=h,green=r,orange=o,purple=u,white=w,yellow=y\n",
    "- population: abundant=a,clustered=c,numerous=n,scattered=s,several=v,solitary=y\n",
    "- habitat: grasses=g,leaves=l,meadows=m,paths=p,urban=u,waste=w,woods=d"
   ]
  },
  {
   "cell_type": "code",
   "execution_count": 4,
   "id": "bored-change",
   "metadata": {},
   "outputs": [
    {
     "name": "stdout",
     "output_type": "stream",
     "text": [
      "  class cap-shape cap-surface cap-color bruises odor gill-attachment  \\\n",
      "0     p         x           s         n       t    p               f   \n",
      "1     e         x           s         y       t    a               f   \n",
      "2     e         b           s         w       t    l               f   \n",
      "3     p         x           y         w       t    p               f   \n",
      "4     e         x           s         g       f    n               f   \n",
      "\n",
      "  gill-spacing gill-size gill-color  ... stalk-surface-below-ring  \\\n",
      "0            c         n          k  ...                        s   \n",
      "1            c         b          k  ...                        s   \n",
      "2            c         b          n  ...                        s   \n",
      "3            c         n          n  ...                        s   \n",
      "4            w         b          k  ...                        s   \n",
      "\n",
      "  stalk-color-above-ring stalk-color-below-ring veil-type veil-color  \\\n",
      "0                      w                      w         p          w   \n",
      "1                      w                      w         p          w   \n",
      "2                      w                      w         p          w   \n",
      "3                      w                      w         p          w   \n",
      "4                      w                      w         p          w   \n",
      "\n",
      "  ring-number ring-type spore-print-color population habitat  \n",
      "0           o         p                 k          s       u  \n",
      "1           o         p                 n          n       g  \n",
      "2           o         p                 n          n       m  \n",
      "3           o         p                 k          s       u  \n",
      "4           o         e                 n          a       g  \n",
      "\n",
      "[5 rows x 23 columns]\n",
      "Index(['class', 'cap-shape', 'cap-surface', 'cap-color', 'bruises', 'odor',\n",
      "       'gill-attachment', 'gill-spacing', 'gill-size', 'gill-color',\n",
      "       'stalk-shape', 'stalk-root', 'stalk-surface-above-ring',\n",
      "       'stalk-surface-below-ring', 'stalk-color-above-ring',\n",
      "       'stalk-color-below-ring', 'veil-type', 'veil-color', 'ring-number',\n",
      "       'ring-type', 'spore-print-color', 'population', 'habitat'],\n",
      "      dtype='object')\n",
      "class                       object\n",
      "cap-shape                   object\n",
      "cap-surface                 object\n",
      "cap-color                   object\n",
      "bruises                     object\n",
      "odor                        object\n",
      "gill-attachment             object\n",
      "gill-spacing                object\n",
      "gill-size                   object\n",
      "gill-color                  object\n",
      "stalk-shape                 object\n",
      "stalk-root                  object\n",
      "stalk-surface-above-ring    object\n",
      "stalk-surface-below-ring    object\n",
      "stalk-color-above-ring      object\n",
      "stalk-color-below-ring      object\n",
      "veil-type                   object\n",
      "veil-color                  object\n",
      "ring-number                 object\n",
      "ring-type                   object\n",
      "spore-print-color           object\n",
      "population                  object\n",
      "habitat                     object\n",
      "dtype: object\n"
     ]
    }
   ],
   "source": [
    "print(df.head())\n",
    "print(df.columns)\n",
    "print(df.dtypes)"
   ]
  },
  {
   "cell_type": "code",
   "execution_count": 5,
   "id": "treated-miracle",
   "metadata": {},
   "outputs": [
    {
     "name": "stdout",
     "output_type": "stream",
     "text": [
      "       class cap-shape cap-surface cap-color bruises  odor gill-attachment  \\\n",
      "count   8124      8124        8124      8124    8124  8124            8124   \n",
      "unique     2         6           4        10       2     9               2   \n",
      "top        e         x           y         n       f     n               f   \n",
      "freq    4208      3656        3244      2284    4748  3528            7914   \n",
      "\n",
      "       gill-spacing gill-size gill-color  ... stalk-surface-below-ring  \\\n",
      "count          8124      8124       8124  ...                     8124   \n",
      "unique            2         2         12  ...                        4   \n",
      "top               c         b          b  ...                        s   \n",
      "freq           6812      5612       1728  ...                     4936   \n",
      "\n",
      "       stalk-color-above-ring stalk-color-below-ring veil-type veil-color  \\\n",
      "count                    8124                   8124      8124       8124   \n",
      "unique                      9                      9         1          4   \n",
      "top                         w                      w         p          w   \n",
      "freq                     4464                   4384      8124       7924   \n",
      "\n",
      "       ring-number ring-type spore-print-color population habitat  \n",
      "count         8124      8124              8124       8124    8124  \n",
      "unique           3         5                 9          6       7  \n",
      "top              o         p                 w          v       d  \n",
      "freq          7488      3968              2388       4040    3148  \n",
      "\n",
      "[4 rows x 23 columns]\n",
      "<class 'pandas.core.frame.DataFrame'>\n",
      "RangeIndex: 8124 entries, 0 to 8123\n",
      "Data columns (total 23 columns):\n",
      " #   Column                    Non-Null Count  Dtype \n",
      "---  ------                    --------------  ----- \n",
      " 0   class                     8124 non-null   object\n",
      " 1   cap-shape                 8124 non-null   object\n",
      " 2   cap-surface               8124 non-null   object\n",
      " 3   cap-color                 8124 non-null   object\n",
      " 4   bruises                   8124 non-null   object\n",
      " 5   odor                      8124 non-null   object\n",
      " 6   gill-attachment           8124 non-null   object\n",
      " 7   gill-spacing              8124 non-null   object\n",
      " 8   gill-size                 8124 non-null   object\n",
      " 9   gill-color                8124 non-null   object\n",
      " 10  stalk-shape               8124 non-null   object\n",
      " 11  stalk-root                8124 non-null   object\n",
      " 12  stalk-surface-above-ring  8124 non-null   object\n",
      " 13  stalk-surface-below-ring  8124 non-null   object\n",
      " 14  stalk-color-above-ring    8124 non-null   object\n",
      " 15  stalk-color-below-ring    8124 non-null   object\n",
      " 16  veil-type                 8124 non-null   object\n",
      " 17  veil-color                8124 non-null   object\n",
      " 18  ring-number               8124 non-null   object\n",
      " 19  ring-type                 8124 non-null   object\n",
      " 20  spore-print-color         8124 non-null   object\n",
      " 21  population                8124 non-null   object\n",
      " 22  habitat                   8124 non-null   object\n",
      "dtypes: object(23)\n",
      "memory usage: 1.4+ MB\n",
      "None\n",
      "(8124, 23)\n"
     ]
    }
   ],
   "source": [
    "print(df.describe())\n",
    "print(df.info())\n",
    "print(df.shape)"
   ]
  },
  {
   "cell_type": "code",
   "execution_count": 6,
   "id": "disturbed-paper",
   "metadata": {},
   "outputs": [
    {
     "name": "stdout",
     "output_type": "stream",
     "text": [
      "veil-type\n"
     ]
    }
   ],
   "source": [
    "for col in df.columns:\n",
    "    if df[col].nunique() <= 1:\n",
    "        print(col)"
   ]
  },
  {
   "cell_type": "markdown",
   "id": "celtic-table",
   "metadata": {},
   "source": [
    "We can see from describing the dataset that veil-type only has one unique value: p. This will allow for this column to be excluded from analysis, as it will have no impact on the results of the model."
   ]
  },
  {
   "cell_type": "code",
   "execution_count": 7,
   "id": "reported-pleasure",
   "metadata": {},
   "outputs": [],
   "source": [
    "df = df.drop(columns=['veil-type'])"
   ]
  },
  {
   "cell_type": "markdown",
   "id": "charming-mount",
   "metadata": {},
   "source": [
    "## Information about the dataset:\n",
    "- 23 columns, each with different attributes associated with specific mushrooms, as well as their edibility/ poisonousness. 8124 rows, each of which representing a unique mushroom.\n",
    "- Mostly categorical nominal columns, with a couple categorical ordinal columns, namely: gill-spacing, gill-size, possibly population?\n",
    "- One numerical discrete column: ring-number, which will be mapped to numeric values and changed type from str to int.\n",
    "- For our model building, labels will be the edibility (1 for edible, 0 for poisonous)\n",
    "- It seems that random forest modelling could be a good for this data. Logistic regression could be good too. LR would allow for the modification of the classification threshold in order to make the model more sensitive to poisonous mushrooms (better to classify an edible mushroom as poisonous, than a poisonous mushroom as edible). With either of these models, feature importance will be utilised in order to determine which features are the best/ most significant predictors of edibility or not."
   ]
  },
  {
   "cell_type": "markdown",
   "id": "supported-research",
   "metadata": {},
   "source": [
    "Next: visualise the distribution of the different attributes of poisonous mushrooms to see if any can clearly be of use predicting poisonousness.\n",
    "For this I will select the poisonous mushroom data, and iterate through the attribute columns and create a series of graphs displaying the distribution of different features. I think a countplot will be best for this visualisation."
   ]
  },
  {
   "cell_type": "code",
   "execution_count": 8,
   "id": "average-electron",
   "metadata": {},
   "outputs": [
    {
     "name": "stdout",
     "output_type": "stream",
     "text": [
      "   cap-shape cap-surface cap-color bruises odor gill-attachment gill-spacing  \\\n",
      "0          x           s         n       t    p               f            c   \n",
      "3          x           y         w       t    p               f            c   \n",
      "8          x           y         w       t    p               f            c   \n",
      "13         x           y         w       t    p               f            c   \n",
      "17         x           s         n       t    p               f            c   \n",
      "\n",
      "   gill-size gill-color stalk-shape  ... stalk-surface-above-ring  \\\n",
      "0          n          k           e  ...                        s   \n",
      "3          n          n           e  ...                        s   \n",
      "8          n          p           e  ...                        s   \n",
      "13         n          k           e  ...                        s   \n",
      "17         n          n           e  ...                        s   \n",
      "\n",
      "   stalk-surface-below-ring stalk-color-above-ring stalk-color-below-ring  \\\n",
      "0                         s                      w                      w   \n",
      "3                         s                      w                      w   \n",
      "8                         s                      w                      w   \n",
      "13                        s                      w                      w   \n",
      "17                        s                      w                      w   \n",
      "\n",
      "   veil-color ring-number ring-type spore-print-color population habitat  \n",
      "0           w           o         p                 k          s       u  \n",
      "3           w           o         p                 k          s       u  \n",
      "8           w           o         p                 k          v       g  \n",
      "13          w           o         p                 n          v       u  \n",
      "17          w           o         p                 k          s       g  \n",
      "\n",
      "[5 rows x 21 columns]\n"
     ]
    }
   ],
   "source": [
    "df_poison = df[df['class'] == 'p']\n",
    "df_poison = df_poison.drop(columns=['class'])\n",
    "print(df_poison.head())"
   ]
  },
  {
   "cell_type": "code",
   "execution_count": 9,
   "id": "responsible-thirty",
   "metadata": {},
   "outputs": [
    {
     "data": {
      "image/png": "[encoded data removed]",
      "text/plain": [
       "<Figure size 2160x2880 with 21 Axes>"
      ]
     },
     "metadata": {
      "needs_background": "light"
     },
     "output_type": "display_data"
    }
   ],
   "source": [
    "fig, ax = plt.subplots(7, 3, figsize=(30, 40))\n",
    "n=1\n",
    "for col in df_poison.columns:\n",
    "    plt.subplot(7, 3, n)\n",
    "    sns.countplot(data=df_poison, x=df_poison[col])\n",
    "    n+=1\n",
    "plt.show()"
   ]
  },
  {
   "cell_type": "markdown",
   "id": "affecting-insulation",
   "metadata": {},
   "source": [
    "From these visualisations of distributions of different attributes of poisonous mushrooms, we can see that several are highly skewed, and these would likely be very useful in determining if a mushroom is poisonous or not."
   ]
  },
  {
   "cell_type": "markdown",
   "id": "racial-borough",
   "metadata": {},
   "source": [
    "## Project scope:\n",
    "## Foraging (particularly for mushrooms) has grown in popularity in recent years, and with many mushrooms (especially LBMs) very similar in appearance, A ML model which could accurately predict the toxicity of mushrooms would be useful for beginner foragers. What are some key features that beginner foragers can look out for and learn to recognise when foraging for mushrooms for the first time in order to pretect themselves from picking toxic mushrooms?\n",
    "### From the visualisations above I can see that certain features are highly skewed regarding the toxic mushrooms. Which features are these which will be the most significant predictors of edibility/ poisonousness?\n",
    "\n",
    "- After visualisation, it appears that bruises, gill-attachment, odor, gill-spacing, gill-color, veil-color, ring-number and population are likely to be indicative of toxicity. Let's see how accurately we can predict edibility using these attributes."
   ]
  },
  {
   "cell_type": "code",
   "execution_count": 10,
   "id": "alike-overview",
   "metadata": {},
   "outputs": [
    {
     "name": "stdout",
     "output_type": "stream",
     "text": [
      "class                       0\n",
      "cap-shape                   0\n",
      "cap-surface                 0\n",
      "cap-color                   0\n",
      "bruises                     0\n",
      "odor                        0\n",
      "gill-attachment             0\n",
      "gill-spacing                0\n",
      "gill-size                   0\n",
      "gill-color                  0\n",
      "stalk-shape                 0\n",
      "stalk-root                  0\n",
      "stalk-surface-above-ring    0\n",
      "stalk-surface-below-ring    0\n",
      "stalk-color-above-ring      0\n",
      "stalk-color-below-ring      0\n",
      "veil-color                  0\n",
      "ring-number                 0\n",
      "ring-type                   0\n",
      "spore-print-color           0\n",
      "population                  0\n",
      "habitat                     0\n",
      "dtype: int64\n"
     ]
    }
   ],
   "source": [
    "# First, check for null values in the data\n",
    "\n",
    "print(df.isnull().sum())"
   ]
  },
  {
   "cell_type": "code",
   "execution_count": 11,
   "id": "atomic-framing",
   "metadata": {},
   "outputs": [
    {
     "name": "stdout",
     "output_type": "stream",
     "text": [
      "0\n"
     ]
    }
   ],
   "source": [
    "# Check for duplicate rows\n",
    "\n",
    "print(df.duplicated(keep='first').sum())"
   ]
  },
  {
   "cell_type": "code",
   "execution_count": 47,
   "id": "fuzzy-runner",
   "metadata": {},
   "outputs": [],
   "source": [
    "labels = df[['class']]\n",
    "data = df[['bruises', 'gill-attachment', 'odor', 'gill-spacing', 'gill-color', 'veil-color', 'ring-number', 'spore-print-color', 'population']]"
   ]
  },
  {
   "cell_type": "code",
   "execution_count": 48,
   "id": "changed-hudson",
   "metadata": {},
   "outputs": [
    {
     "name": "stdout",
     "output_type": "stream",
     "text": [
      "bruises : ['t' 'f']\n",
      "gill-attachment : ['f' 'a']\n",
      "odor : ['p' 'a' 'l' 'n' 'f' 'c' 'y' 's' 'm']\n",
      "gill-spacing : ['c' 'w']\n",
      "gill-color : ['k' 'n' 'g' 'p' 'w' 'h' 'u' 'e' 'b' 'r' 'y' 'o']\n",
      "veil-color : ['w' 'n' 'o' 'y']\n",
      "ring-number : ['o' 't' 'n']\n",
      "spore-print-color : ['k' 'n' 'u' 'h' 'w' 'r' 'o' 'y' 'b']\n",
      "population : ['s' 'n' 'a' 'v' 'y' 'c']\n"
     ]
    }
   ],
   "source": [
    "for col in data.columns:\n",
    "    print(col, ':', data[col].unique())"
   ]
  },
  {
   "cell_type": "markdown",
   "id": "neural-tablet",
   "metadata": {},
   "source": [
    "It looks like these are mostly nominal categorical columns. The exceptions are bruises (true/false is ordinal) and ring-number, which is actually discrete numerical. gill-spacing could be argued to be continuous too, but as there is not a consistent different between 'close' and 'wide' spacing, I shall classify this as ordinal.\n",
    "All nominal columns will be One Hot Encoded for this analysis, the ordinal column will be mapped to binary 0/1, and the ring-number column will be mapped to 0, 1 and 2."
   ]
  },
  {
   "cell_type": "code",
   "execution_count": 49,
   "id": "modular-thanks",
   "metadata": {},
   "outputs": [],
   "source": [
    "data = pd.get_dummies(data=data, columns=['gill-attachment', 'odor', 'gill-spacing', 'gill-color', 'spore-print-color', 'veil-color', 'population'])\n",
    "data.bruises = data.bruises.map({'f':0, 't':1})\n",
    "data['ring-number'] = data['ring-number'].map({'n':0, 'o':1, 't':2})"
   ]
  },
  {
   "cell_type": "code",
   "execution_count": 50,
   "id": "dedicated-bolivia",
   "metadata": {},
   "outputs": [
    {
     "name": "stdout",
     "output_type": "stream",
     "text": [
      "bruises : [1 0]\n",
      "ring-number : [1 2 0]\n",
      "gill-attachment_a : [0 1]\n",
      "gill-attachment_f : [1 0]\n",
      "odor_a : [0 1]\n",
      "odor_c : [0 1]\n",
      "odor_f : [0 1]\n",
      "odor_l : [0 1]\n",
      "odor_m : [0 1]\n",
      "odor_n : [0 1]\n",
      "odor_p : [1 0]\n",
      "odor_s : [0 1]\n",
      "odor_y : [0 1]\n",
      "gill-spacing_c : [1 0]\n",
      "gill-spacing_w : [0 1]\n",
      "gill-color_b : [0 1]\n",
      "gill-color_e : [0 1]\n",
      "gill-color_g : [0 1]\n",
      "gill-color_h : [0 1]\n",
      "gill-color_k : [1 0]\n",
      "gill-color_n : [0 1]\n",
      "gill-color_o : [0 1]\n",
      "gill-color_p : [0 1]\n",
      "gill-color_r : [0 1]\n",
      "gill-color_u : [0 1]\n",
      "gill-color_w : [0 1]\n",
      "gill-color_y : [0 1]\n",
      "spore-print-color_b : [0 1]\n",
      "spore-print-color_h : [0 1]\n",
      "spore-print-color_k : [1 0]\n",
      "spore-print-color_n : [0 1]\n",
      "spore-print-color_o : [0 1]\n",
      "spore-print-color_r : [0 1]\n",
      "spore-print-color_u : [0 1]\n",
      "spore-print-color_w : [0 1]\n",
      "spore-print-color_y : [0 1]\n",
      "veil-color_n : [0 1]\n",
      "veil-color_o : [0 1]\n",
      "veil-color_w : [1 0]\n",
      "veil-color_y : [0 1]\n",
      "population_a : [0 1]\n",
      "population_c : [0 1]\n",
      "population_n : [0 1]\n",
      "population_s : [1 0]\n",
      "population_v : [0 1]\n",
      "population_y : [0 1]\n"
     ]
    }
   ],
   "source": [
    "for col in data.columns:\n",
    "    print(col, ':', data[col].unique())"
   ]
  },
  {
   "cell_type": "code",
   "execution_count": 51,
   "id": "informative-receipt",
   "metadata": {},
   "outputs": [],
   "source": [
    "labels = labels['class'].map({'e':0, 'p':1})"
   ]
  },
  {
   "cell_type": "code",
   "execution_count": 52,
   "id": "organic-contest",
   "metadata": {},
   "outputs": [
    {
     "name": "stdout",
     "output_type": "stream",
     "text": [
      "0       1\n",
      "1       0\n",
      "2       0\n",
      "3       1\n",
      "4       0\n",
      "       ..\n",
      "8119    0\n",
      "8120    0\n",
      "8121    0\n",
      "8122    1\n",
      "8123    0\n",
      "Name: class, Length: 8124, dtype: int64\n",
      "<class 'pandas.core.series.Series'>\n",
      "[1 0 0 ... 0 1 0]\n"
     ]
    }
   ],
   "source": [
    "print(labels)\n",
    "print(type(labels))\n",
    "labels_final = labels.ravel()\n",
    "print(labels_final)"
   ]
  },
  {
   "cell_type": "code",
   "execution_count": 53,
   "id": "purple-roulette",
   "metadata": {},
   "outputs": [],
   "source": [
    "# Importing necessary modules for ML model building\n",
    "\n",
    "from sklearn.model_selection import train_test_split\n",
    "from sklearn.linear_model import LogisticRegression\n",
    "from sklearn.preprocessing import StandardScaler\n",
    "from sklearn.ensemble import RandomForestClassifier\n",
    "from sklearn.metrics import accuracy_score, recall_score, precision_score, f1_score\n",
    "from sklearn.metrics import classification_report, confusion_matrix\n",
    "from sklearn.metrics import plot_confusion_matrix"
   ]
  },
  {
   "cell_type": "code",
   "execution_count": 162,
   "id": "artistic-treaty",
   "metadata": {},
   "outputs": [],
   "source": [
    "train_data, test_data, train_labels, test_labels = train_test_split(data, labels_final, test_size=0.2, random_state=1)"
   ]
  },
  {
   "cell_type": "code",
   "execution_count": 163,
   "id": "endangered-senator",
   "metadata": {},
   "outputs": [
    {
     "name": "stdout",
     "output_type": "stream",
     "text": [
      "6499 1625\n"
     ]
    }
   ],
   "source": [
    "print(len(train_data), len(test_data))"
   ]
  },
  {
   "cell_type": "code",
   "execution_count": 164,
   "id": "pediatric-official",
   "metadata": {},
   "outputs": [
    {
     "data": {
      "text/plain": [
       "LogisticRegression(random_state=1)"
      ]
     },
     "execution_count": 164,
     "metadata": {},
     "output_type": "execute_result"
    }
   ],
   "source": [
    "scaler = StandardScaler()\n",
    "scaler.fit_transform(train_data)\n",
    "scaler.transform(test_data)\n",
    "\n",
    "model = LogisticRegression(random_state = 1)\n",
    "model.fit(train_data, train_labels)"
   ]
  },
  {
   "cell_type": "code",
   "execution_count": 165,
   "id": "convinced-adjustment",
   "metadata": {},
   "outputs": [
    {
     "name": "stdout",
     "output_type": "stream",
     "text": [
      "[0 1 1 ... 1 0 0]\n",
      "[[9.99896804e-01 1.03195830e-04]\n",
      " [4.26315463e-02 9.57368454e-01]\n",
      " [3.44653282e-02 9.65534672e-01]\n",
      " ...\n",
      " [2.69203710e-05 9.99973080e-01]\n",
      " [9.99926426e-01 7.35735904e-05]\n",
      " [9.99052745e-01 9.47254634e-04]]\n"
     ]
    }
   ],
   "source": [
    "print(model.predict(test_data))\n",
    "print(model.predict_proba(test_data))"
   ]
  },
  {
   "cell_type": "code",
   "execution_count": 166,
   "id": "broke-harbor",
   "metadata": {},
   "outputs": [
    {
     "name": "stdout",
     "output_type": "stream",
     "text": [
      "0.9995383905216187\n",
      "0.9969230769230769\n"
     ]
    }
   ],
   "source": [
    "print(model.score(train_data, train_labels))\n",
    "print(model.score(test_data, test_labels))"
   ]
  },
  {
   "cell_type": "code",
   "execution_count": 167,
   "id": "higher-expense",
   "metadata": {},
   "outputs": [
    {
     "name": "stdout",
     "output_type": "stream",
     "text": [
      "[0 1 1 ... 1 0 0]\n",
      "1.0\n",
      "1.0\n",
      "1.0\n",
      "1.0\n"
     ]
    }
   ],
   "source": [
    "predictions = np.where(model.predict_proba(test_data)[:, 1] >= 0.3, 1, 0)\n",
    "print(predictions)\n",
    "print(accuracy_score(test_labels, predictions))\n",
    "print(recall_score(test_labels, predictions))\n",
    "print(precision_score(test_labels, predictions))\n",
    "print(f1_score(test_labels, predictions))"
   ]
  },
  {
   "cell_type": "code",
   "execution_count": 168,
   "id": "therapeutic-native",
   "metadata": {},
   "outputs": [
    {
     "name": "stdout",
     "output_type": "stream",
     "text": [
      "              precision    recall  f1-score   support\n",
      "\n",
      "      Edible       1.00      1.00      1.00       820\n",
      "   Poisonous       1.00      1.00      1.00       805\n",
      "\n",
      "    accuracy                           1.00      1625\n",
      "   macro avg       1.00      1.00      1.00      1625\n",
      "weighted avg       1.00      1.00      1.00      1625\n",
      "\n",
      "[[820   0]\n",
      " [  0 805]]\n"
     ]
    }
   ],
   "source": [
    "target_names = ['Edible', 'Poisonous']\n",
    "print(classification_report(test_labels, predictions, target_names = target_names))\n",
    "print(confusion_matrix(test_labels, predictions))"
   ]
  },
  {
   "cell_type": "code",
   "execution_count": 169,
   "id": "nearby-priest",
   "metadata": {},
   "outputs": [
    {
     "data": {
      "image/png": "[encoded data removed]",
      "text/plain": [
       "<Figure size 432x288 with 2 Axes>"
      ]
     },
     "metadata": {
      "needs_background": "light"
     },
     "output_type": "display_data"
    }
   ],
   "source": [
    "plot_confusion_matrix(model, test_data, test_labels)\n",
    "plt.show()"
   ]
  },
  {
   "cell_type": "code",
   "execution_count": 75,
   "id": "mexican-airport",
   "metadata": {},
   "outputs": [
    {
     "name": "stdout",
     "output_type": "stream",
     "text": [
      "bruises: -1.7162045060262674\n",
      "ring-number: -1.587334592951327\n",
      "gill-attachment_a: -1.2994102962844853\n",
      "gill-attachment_f: 1.2993379951993824\n",
      "odor_a: -3.531493276082693\n",
      "odor_c: 3.884332660364937\n",
      "odor_f: 3.536080907928548\n",
      "odor_l: -3.4949588445110247\n",
      "odor_m: 0.1353772611883129\n",
      "odor_n: -5.501703165135472\n",
      "odor_p: 4.201482026564631\n",
      "odor_s: 0.3863376423417041\n",
      "odor_y: 0.38447248625594344\n",
      "gill-spacing_c: 1.1482149223597284\n",
      "gill-spacing_w: -1.1482872234448303\n",
      "gill-color_b: 0.7882211547919024\n",
      "gill-color_e: -1.0076438168156538\n",
      "gill-color_g: 0.3391621072650731\n",
      "gill-color_h: -0.07199574969291667\n",
      "gill-color_k: -0.27863805613685183\n",
      "gill-color_n: -0.463568923640297\n",
      "gill-color_o: -0.36646625761836\n",
      "gill-color_p: -0.22596202411730562\n",
      "gill-color_r: 1.2030636016999268\n",
      "gill-color_u: -0.38456634743358037\n",
      "gill-color_w: 0.13241584974386117\n",
      "gill-color_y: 0.3359061608690967\n",
      "spore-print-color_b: -0.48789703655537836\n",
      "spore-print-color_h: -0.5448294646648929\n",
      "spore-print-color_k: -2.2932136904854628\n",
      "spore-print-color_n: -2.2918166158510176\n",
      "spore-print-color_o: -0.452692364412411\n",
      "spore-print-color_r: 5.904731642982542\n",
      "spore-print-color_u: -0.8067945826192944\n",
      "spore-print-color_w: 1.3845162789648817\n",
      "spore-print-color_y: -0.412076468444068\n",
      "veil-color_n: -0.7057235383955605\n",
      "veil-color_o: -0.7206791488318502\n",
      "veil-color_w: -0.6544302806194231\n",
      "veil-color_y: 2.0807606667617304\n",
      "population_a: -0.22299332814193504\n",
      "population_c: 0.757082436024911\n",
      "population_n: -1.2417126106600864\n",
      "population_s: 0.22524856606270136\n",
      "population_v: 1.1758227836066795\n",
      "population_y: -0.6935201479773699\n"
     ]
    }
   ],
   "source": [
    "coefficients = model.coef_\n",
    "coefficients = coefficients.tolist()[0]\n",
    "for i in range(len(data.columns)):\n",
    "    print(data.columns[i] + ': ' + str(coefficients[i]))"
   ]
  },
  {
   "cell_type": "code",
   "execution_count": 145,
   "id": "disturbed-burke",
   "metadata": {},
   "outputs": [
    {
     "data": {
      "text/plain": [
       "RandomForestClassifier(n_estimators=20, random_state=1)"
      ]
     },
     "execution_count": 145,
     "metadata": {},
     "output_type": "execute_result"
    }
   ],
   "source": [
    "forest = RandomForestClassifier(n_estimators=20, random_state=1)\n",
    "forest.fit(train_data, train_labels)"
   ]
  },
  {
   "cell_type": "code",
   "execution_count": 146,
   "id": "entertaining-sperm",
   "metadata": {},
   "outputs": [
    {
     "name": "stdout",
     "output_type": "stream",
     "text": [
      "[[1. 0.]\n",
      " [0. 1.]\n",
      " [0. 1.]\n",
      " ...\n",
      " [0. 1.]\n",
      " [1. 0.]\n",
      " [1. 0.]]\n",
      "1.0\n",
      "1.0\n"
     ]
    }
   ],
   "source": [
    "print(forest.predict_proba(test_data))\n",
    "\n",
    "print(forest.score(train_data, train_labels))\n",
    "print(forest.score(test_data, test_labels))"
   ]
  },
  {
   "cell_type": "code",
   "execution_count": 147,
   "id": "rubber-basic",
   "metadata": {},
   "outputs": [
    {
     "name": "stdout",
     "output_type": "stream",
     "text": [
      "[0 1 1 ... 1 0 0]\n",
      "1.0\n",
      "1.0\n",
      "1.0\n",
      "1.0\n"
     ]
    }
   ],
   "source": [
    "predictions = np.where(forest.predict_proba(test_data)[:, 1] >= 0.3, 1, 0)\n",
    "print(predictions)\n",
    "print(accuracy_score(test_labels, predictions))\n",
    "print(recall_score(test_labels, predictions))\n",
    "print(precision_score(test_labels, predictions))\n",
    "print(f1_score(test_labels, predictions))"
   ]
  },
  {
   "cell_type": "code",
   "execution_count": 148,
   "id": "charitable-baker",
   "metadata": {},
   "outputs": [
    {
     "name": "stdout",
     "output_type": "stream",
     "text": [
      "              precision    recall  f1-score   support\n",
      "\n",
      "      Edible       1.00      1.00      1.00       820\n",
      "   Poisonous       1.00      1.00      1.00       805\n",
      "\n",
      "    accuracy                           1.00      1625\n",
      "   macro avg       1.00      1.00      1.00      1625\n",
      "weighted avg       1.00      1.00      1.00      1625\n",
      "\n",
      "[[820   0]\n",
      " [  0 805]]\n"
     ]
    }
   ],
   "source": [
    "target_names = ['Edible', 'Poisonous']\n",
    "print(classification_report(test_labels, predictions, target_names = target_names))\n",
    "print(confusion_matrix(test_labels, predictions))"
   ]
  },
  {
   "cell_type": "code",
   "execution_count": 149,
   "id": "trying-template",
   "metadata": {},
   "outputs": [
    {
     "data": {
      "image/png": "[encoded data removed]",
      "text/plain": [
       "<Figure size 432x288 with 2 Axes>"
      ]
     },
     "metadata": {
      "needs_background": "light"
     },
     "output_type": "display_data"
    }
   ],
   "source": [
    "plot_confusion_matrix(forest, test_data, test_labels)\n",
    "plt.show()"
   ]
  },
  {
   "cell_type": "code",
   "execution_count": 150,
   "id": "described-keyboard",
   "metadata": {},
   "outputs": [
    {
     "name": "stdout",
     "output_type": "stream",
     "text": [
      "odor_a: 0.027375226972259435\n",
      "odor_c: 0.009761278074102337\n",
      "odor_f: 0.0015900172273047692\n",
      "odor_l: 9.164896599760512e-05\n",
      "odor_m: 0.001597608346082353\n",
      "odor_n: 0.00019976646929452507\n",
      "odor_p: 2.4969756653922262e-05\n",
      "odor_s: 0.0006111221009461549\n",
      "odor_y: 0.0032668547457402053\n",
      "gill-spacing_c: 0.00011216274194499191\n",
      "gill-spacing_w: 0.00805759233373361\n",
      "gill-size_b: 0.002331589347915616\n",
      "gill-size_n: 0.006748966116821789\n",
      "gill-color_b: 0.0003339886596462316\n",
      "gill-color_e: 0.0\n",
      "gill-color_g: 0.0019098576525466554\n",
      "gill-color_h: 0.00420916447308593\n",
      "gill-color_k: 0.004043800396497095\n",
      "gill-color_n: 0.0\n",
      "gill-color_o: 0.0\n",
      "gill-color_p: 0.003717785946941931\n",
      "gill-color_r: 0.003599861638094404\n",
      "gill-color_u: 0.002004405110886373\n",
      "gill-color_w: 0.006807504225705733\n",
      "gill-color_y: 0.08334972008944978\n",
      "stalk-root_?: 0.0021606127897889904\n",
      "stalk-root_b: 0.0\n",
      "stalk-root_c: 0.10427302622659038\n",
      "stalk-root_e: 0.012569030378154267\n",
      "stalk-root_r: 0.004040187138259407\n",
      "stalk-surface-above-ring_f: 0.009300101782351512\n",
      "stalk-surface-above-ring_k: 0.0\n",
      "stalk-surface-above-ring_s: 0.0\n",
      "stalk-surface-above-ring_y: 0.013205681838763417\n",
      "stalk-surface-below-ring_f: 0.007615089076155007\n",
      "stalk-surface-below-ring_k: 0.06363178482259983\n",
      "stalk-surface-below-ring_s: 0.06787471846296167\n",
      "stalk-surface-below-ring_y: 0.017690635284870602\n",
      "ring-type_e: 0.00014422019382997743\n",
      "ring-type_f: 6.954261360887201e-05\n",
      "ring-type_l: 0.0001872206775790651\n",
      "ring-type_n: 2.8250269911763766e-05\n",
      "ring-type_p: 0.0025194188991582737\n",
      "spore-print-color_b: 0.0\n",
      "spore-print-color_h: 0.0004601978259517231\n",
      "spore-print-color_k: 0.002951599599642385\n",
      "spore-print-color_n: 0.00026960557540415604\n",
      "spore-print-color_o: 0.0008076225526721787\n",
      "spore-print-color_r: 0.0002792736187349892\n",
      "spore-print-color_u: 0.02282460712819127\n",
      "spore-print-color_w: 0.01001644005197087\n",
      "spore-print-color_y: 0.011934096378135497\n",
      "population_a: 0.01143820497145931\n",
      "population_c: 0.009468685512654448\n",
      "population_n: 0.0073125760096469485\n",
      "population_s: 0.0006031800742389638\n",
      "population_v: 0.005654090867589784\n",
      "population_y: 0.05223806900986601\n",
      "habitat_d: 0.015568968429007762\n",
      "habitat_g: 0.0004955983745539504\n",
      "habitat_l: 0.006886523728403768\n",
      "habitat_m: 0.055377523524907525\n",
      "habitat_p: 0.005157066408677724\n",
      "habitat_u: 0.004817826282903156\n",
      "habitat_w: 0.0\n"
     ]
    }
   ],
   "source": [
    "features = forest.feature_importances_\n",
    "features = features.tolist()\n",
    "for i in range(len(data.columns)):\n",
    "    print(data.columns[i] + ': ' + str(features[i]))"
   ]
  },
  {
   "cell_type": "code",
   "execution_count": 151,
   "id": "employed-portugal",
   "metadata": {},
   "outputs": [
    {
     "data": {
      "image/png": "[encoded data removed]",
      "text/plain": [
       "<Figure size 432x432 with 1 Axes>"
      ]
     },
     "metadata": {
      "needs_background": "light"
     },
     "output_type": "display_data"
    }
   ],
   "source": [
    "# 99.9% accuracy with 10 estimators (trees). Lets try Random Forest with a bunch of different n_estimators.\n",
    "scores = []\n",
    "for i in range(1, 101):\n",
    "    forest = RandomForestClassifier(n_estimators = i, random_state = 1)\n",
    "    forest.fit(train_data, train_labels)\n",
    "    scores.append(forest.score(test_data, test_labels))\n",
    "\n",
    "ax = plt.figure(figsize = (6, 6))\n",
    "plt.plot(range(1, 101), scores)\n",
    "plt.show()"
   ]
  },
  {
   "cell_type": "markdown",
   "id": "imposed-arizona",
   "metadata": {},
   "source": [
    "From this graph, it appears that the optimal number of trees is above 17. This evaluation method allows us to fine tune our model and optimise it's performance."
   ]
  },
  {
   "cell_type": "markdown",
   "id": "creative-permit",
   "metadata": {},
   "source": [
    "For this specific dataset, consisting of Agaricus and Lepiota Family Mushrooms, the Random Forest Model is 100% accurate in predicting the edibility/toxicity of this specific family of mushrooms, as is the Logistic Regression with a threshold of 30% to err on the side of caution (more likely to classify a mushrooms as toxic than edible if the predicted probability is slightly lower. The skewness of the dataset (and only one family of mushrooms) demonstrates that more data is required to make the model applicable to more mushrooms in a wider range of locations."
   ]
  },
  {
   "cell_type": "markdown",
   "id": "automotive-fitting",
   "metadata": {},
   "source": [
    "Future scope for additional projects: gather more data. Scrape wikipedia or use databases to gather more information on a wider range of mushrooms worldwide. The names of mushrooms would be useful, too, in order to easily and accurately cross-reference the edibility or toxicity of mushrooms classified. Additionally, a multi-model evaluation could be very useful to implement given the complexity of mushrooms classification, and relative similarity between many species (particularly LBMs). A future model could incorporate some key aspects easily identified (spore print, bruises, colours, rings, shape, habitat, population etc., in addition to photographic identification through a deep learning model. This would be highly useful and very applicable to foragers and ensuring the safety of people getting into foraging for the first time."
   ]
  }
 ],
 "metadata": {
  "kernelspec": {
   "display_name": "Python 3",
   "language": "python",
   "name": "python3"
  },
  "language_info": {
   "codemirror_mode": {
    "name": "ipython",
    "version": 3
   },
   "file_extension": ".py",
   "mimetype": "text/x-python",
   "name": "python",
   "nbconvert_exporter": "python",
   "pygments_lexer": "ipython3",
   "version": "3.8.5"
  }
 },
 "nbformat": 4,
 "nbformat_minor": 5
}
